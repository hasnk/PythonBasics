{
 "cells": [
  {
   "cell_type": "markdown",
   "metadata": {},
   "source": [
    "# Initializing Lists in Python\n",
    "There are several ways to initialize lists in Python\n",
    "\n",
    "## .1) Using Square Brackets\n",
    "This is the most common way of creating a list in Python. We use a pair of square brackets ([]) and within those brackets we put each value that we want seperated by a comma"
   ]
  },
  {
   "cell_type": "code",
   "execution_count": 1,
   "metadata": {},
   "outputs": [
    {
     "name": "stdout",
     "output_type": "stream",
     "text": [
      "['Anas', 'Areeba', 'Abual Wasay']\n"
     ]
    }
   ],
   "source": [
    "mySiblings = ['Anas', 'Areeba', 'Abual Wasay']\n",
    "print(mySiblings)"
   ]
  },
  {
   "cell_type": "markdown",
   "metadata": {},
   "source": [
    "## .2) Using Empty Square Brackets With `.append()`"
   ]
  },
  {
   "cell_type": "markdown",
   "metadata": {},
   "source": [
    "In this method we create a list using square brackets and for time being leave it empty. Then to populate that list we use `.append()` method. `.append()` method takes only one argument which is placed at the end of the list"
   ]
  },
  {
   "cell_type": "code",
   "execution_count": 2,
   "metadata": {},
   "outputs": [
    {
     "name": "stdout",
     "output_type": "stream",
     "text": [
      "[]\n",
      "['maths', 'physics']\n",
      "['maths', 'physics', 'chemistry']\n"
     ]
    }
   ],
   "source": [
    "courses = []\n",
    "print(courses)\n",
    "courses.append(\"maths\")\n",
    "courses.append(\"physics\")\n",
    "print(courses)\n",
    "courses.append(\"chemistry\")\n",
    "print(courses)"
   ]
  },
  {
   "cell_type": "markdown",
   "metadata": {},
   "source": [
    "## .3) Using List Comprehension\n",
    "This is another way of initializing lists in Python discussed in a seperate notebook of itself"
   ]
  },
  {
   "cell_type": "markdown",
   "metadata": {},
   "source": [
    "## .4) Using List Multiplication"
   ]
  },
  {
   "cell_type": "code",
   "execution_count": 4,
   "metadata": {},
   "outputs": [
    {
     "name": "stdout",
     "output_type": "stream",
     "text": [
      "[1, 2, 3, 1, 2, 3, 1, 2, 3, 1, 2, 3]\n"
     ]
    }
   ],
   "source": [
    "x = [1, 2, 3] * 4\n",
    "print(x)"
   ]
  },
  {
   "cell_type": "code",
   "execution_count": 5,
   "metadata": {},
   "outputs": [
    {
     "name": "stdout",
     "output_type": "stream",
     "text": [
      "['a', 'a']\n"
     ]
    }
   ],
   "source": [
    "y = ['a'] * 2\n",
    "print(y)"
   ]
  },
  {
   "cell_type": "markdown",
   "metadata": {},
   "source": [
    "## .5) Using `list()`\n",
    "`list()` constructor returns a Python list. It takes only one optional argument meaning its upto us to provide this argument or not. Syntax of `list()` is \n",
    "\n",
    "`list([iterable])`\n",
    "\n",
    "Not providing the argument will creat an empty list and then we have to use `.append()` to populate the empty list"
   ]
  },
  {
   "cell_type": "code",
   "execution_count": 6,
   "metadata": {},
   "outputs": [
    {
     "name": "stdout",
     "output_type": "stream",
     "text": [
      "[]\n",
      "[98.2, 99.4]\n"
     ]
    }
   ],
   "source": [
    "temp = list() # temp will be an empty list\n",
    "print(temp)\n",
    "temp.append(98.2)\n",
    "temp.append(99.4)\n",
    "print(temp)"
   ]
  },
  {
   "cell_type": "code",
   "execution_count": 9,
   "metadata": {},
   "outputs": [
    {
     "name": "stdout",
     "output_type": "stream",
     "text": [
      "['rabi', 'razi']\n"
     ]
    }
   ],
   "source": [
    "friends = list(['rabi', \"razi\"])\n",
    "print(friends)"
   ]
  },
  {
   "cell_type": "code",
   "execution_count": 10,
   "metadata": {},
   "outputs": [
    {
     "name": "stdout",
     "output_type": "stream",
     "text": [
      "['h', 'a', 's', 'n', 'a', 'i', 'n']\n"
     ]
    }
   ],
   "source": [
    "x = list(\"hasnain\")\n",
    "print(x)"
   ]
  },
  {
   "cell_type": "code",
   "execution_count": 11,
   "metadata": {},
   "outputs": [
    {
     "name": "stdout",
     "output_type": "stream",
     "text": [
      "[1, 2, 3]\n"
     ]
    }
   ],
   "source": [
    "my_tuple = (1, 2, 3)\n",
    "y = list(my_tuple)\n",
    "print(y)"
   ]
  },
  {
   "cell_type": "code",
   "execution_count": 12,
   "metadata": {},
   "outputs": [
    {
     "name": "stdout",
     "output_type": "stream",
     "text": [
      "[1, 2, 3]\n"
     ]
    }
   ],
   "source": [
    "my_list = [1, 2, 3]\n",
    "z = list(my_list)\n",
    "print(z)"
   ]
  },
  {
   "cell_type": "markdown",
   "metadata": {},
   "source": [
    "Observe how `list()` takes an iterable object and convert it into list"
   ]
  },
  {
   "cell_type": "markdown",
   "metadata": {},
   "source": [
    "### Remember:\n",
    "- Empty Python list can be created in two ways. One using empty square brackets ([]) and another using `list()`"
   ]
  },
  {
   "cell_type": "code",
   "execution_count": null,
   "metadata": {},
   "outputs": [],
   "source": []
  }
 ],
 "metadata": {
  "kernelspec": {
   "display_name": "Python 3",
   "language": "python",
   "name": "python3"
  },
  "language_info": {
   "codemirror_mode": {
    "name": "ipython",
    "version": 3
   },
   "file_extension": ".py",
   "mimetype": "text/x-python",
   "name": "python",
   "nbconvert_exporter": "python",
   "pygments_lexer": "ipython3",
   "version": "3.7.6"
  }
 },
 "nbformat": 4,
 "nbformat_minor": 4
}
